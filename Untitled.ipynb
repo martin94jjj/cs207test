{
 "cells": [
  {
   "cell_type": "code",
   "execution_count": 1,
   "metadata": {},
   "outputs": [
    {
     "name": "stdout",
     "output_type": "stream",
     "text": [
      "Writing roots.py\n"
     ]
    }
   ],
   "source": [
    "%%file roots.py\n",
    "def linear_roots(a=1.0, b=0.0):\n",
    "    \"\"\"Returns the roots of a linear equation: ax+ b = 0.\n",
    "    \n",
    "    INPUTS\n",
    "    =======\n",
    "    a: float, optional, default value is 1\n",
    "       Coefficient of linear term\n",
    "    b: float, optional, default value is 0\n",
    "       Coefficient of constant term\n",
    "    \n",
    "    RETURNS\n",
    "    ========\n",
    "    roots: 1-tuple of real floats\n",
    "       Has the form (root) unless a = 0 \n",
    "       in which case a ValueError exception is raised\n",
    "    \n",
    "    EXAMPLES\n",
    "    =========\n",
    "    >>> linear_roots(1.0, 2.0)\n",
    "    -2.0\n",
    "    \"\"\"\n",
    "    if a == 0:\n",
    "        raise ValueError(\"The linear coefficient is zero.  This is not a linear equation.\")\n",
    "    else:\n",
    "        return ((-b / a))\n",
    "\n",
    "def quad_roots(a=1.0, b=2.0, c=0.0):\n",
    "    \"\"\"Returns the roots of a quadratic equation: ax^2 + bx + c = 0.\n",
    "    \n",
    "    INPUTS\n",
    "    =======\n",
    "    a: float, optional, default value is 1\n",
    "       Coefficient of quadratic term\n",
    "    b: float, optional, default value is 2\n",
    "       Coefficient of linear term\n",
    "    c: float, optional, default value is 0\n",
    "       Constant term\n",
    "    \n",
    "    RETURNS\n",
    "    ========\n",
    "    roots: 2-tuple of complex floats\n",
    "       Has the form (root1, root2) unless a = 0 \n",
    "       in which case a ValueError exception is raised\n",
    "    \n",
    "    EXAMPLES\n",
    "    =========\n",
    "    >>> quad_roots(1.0, 1.0, -12.0)\n",
    "    ((3+0j), (-4+0j))\n",
    "    \"\"\"\n",
    "    import cmath # Can return complex numbers from square roots\n",
    "    if a == 0:\n",
    "        raise ValueError(\"The quadratic coefficient is zero.  This is not a quadratic equation.\")\n",
    "    else:\n",
    "        sqrtdisc = cmath.sqrt(b * b - 4.0 * a * c)\n",
    "        r1 = -b + sqrtdisc\n",
    "        r2 = -b - sqrtdisc\n",
    "        twoa = 2.0 * a\n",
    "        return (r1 / twoa, r2 / twoa)"
   ]
  },
  {
   "cell_type": "code",
   "execution_count": 2,
   "metadata": {},
   "outputs": [
    {
     "name": "stdout",
     "output_type": "stream",
     "text": [
      "Writing test_roots.py\n"
     ]
    }
   ],
   "source": [
    "%%file test_roots.py\n",
    "import pytest\n",
    "import roots\n",
    "\n",
    "def test_quadroots_result():\n",
    "    assert roots.quad_roots(1.0, 1.0, -12.0) == ((3+0j), (-4+0j))\n",
    "\n",
    "def test_quadroots_types():\n",
    "    with pytest.raises(TypeError):\n",
    "        roots.quad_roots(\"\", \"green\", \"hi\")\n",
    "\n",
    "def test_quadroots_zerocoeff():\n",
    "    with pytest.raises(ValueError):\n",
    "        roots.quad_roots(a=0.0)\n",
    "\n",
    "def test_linearoots_result():\n",
    "    assert roots.linear_roots(2.0, -3.0) == 1.5\n",
    "\n",
    "def test_linearroots_types():\n",
    "    with pytest.raises(TypeError):\n",
    "        roots.linear_roots(\"ocean\", 6.0)\n",
    "\n",
    "def test_linearroots_zerocoeff():\n",
    "    with pytest.raises(ValueError):\n",
    "        roots.linear_roots(a=0.0)"
   ]
  },
  {
   "cell_type": "code",
   "execution_count": null,
   "metadata": {},
   "outputs": [],
   "source": []
  }
 ],
 "metadata": {
  "kernelspec": {
   "display_name": "Python 3",
   "language": "python",
   "name": "python3"
  },
  "language_info": {
   "codemirror_mode": {
    "name": "ipython",
    "version": 3
   },
   "file_extension": ".py",
   "mimetype": "text/x-python",
   "name": "python",
   "nbconvert_exporter": "python",
   "pygments_lexer": "ipython3",
   "version": "3.7.3"
  }
 },
 "nbformat": 4,
 "nbformat_minor": 2
}
